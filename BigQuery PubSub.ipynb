{
  "nbformat": 4,
  "nbformat_minor": 0,
  "metadata": {
    "colab": {
      "cell_execution_strategy": "setup",
      "provenance": [],
      "name": "PubSub"
    },
    "kernelspec": {
      "name": "python3",
      "display_name": "Python 3"
    },
    "language_info": {
      "name": "python"
    }
  },
  "cells": [
    {
      "cell_type": "markdown",
      "source": [
        "# PubSub\n",
        "In this demonstration/notebook we create a PubSub topic and a BQ subscription and show how messages written to PubSub appear as new messages appened to a BQ table.\n",
        "\n",
        "A video illustrating a run through of this notebook can be found [here](https://www.youtube.com/watch?v=4aVo_OsFxvM).\n"
      ],
      "metadata": {
        "id": "4tCEv1__KgiD"
      }
    },
    {
      "cell_type": "markdown",
      "source": [
        "We do some setup and create some BQ artifacts.\n",
        "\n",
        "We create a dataset called `pubsub`.  And in there we create a sample table called `table1`.\n"
      ],
      "metadata": {
        "id": "xnz_3MbEKqMv"
      }
    },
    {
      "cell_type": "code",
      "source": [
        "# Change the following for your environment\n",
        "PROJECT=\"test1-305123\"\n",
        "PROJECT_NUMBER=\"604474120566\"\n",
        "DATASET=\"pubsub\"\n",
        "TABLE=\"table1\"\n",
        "TOPIC=\"bq-test\"\n",
        "SUBSCRIPTION=\"bq-sub\"\n",
        "\n",
        "TOPIC_DLQ=f\"{TOPIC}-dlq\"\n",
        "SUBSCRIPTION_DLQ=f\"{SUBSCRIPTION}-dlq\"\n",
        "PUBSUB_SERVICE_ACCOUNT=f\"service-{PROJECT_NUMBER}@gcp-sa-pubsub.iam.gserviceaccount.com\"\n",
        "\n",
        "from google.cloud import bigquery\n",
        "import datetime\n",
        "\n",
        "#\n",
        "# run_job\n",
        "#\n",
        "# Function to run a job\n",
        "#\n",
        "def run_job(statement,project=PROJECT):\n",
        "  job_config = bigquery.QueryJobConfig()\n",
        "  job_config.use_query_cache = False\n",
        "  client = bigquery.Client(default_query_job_config=job_config)\n",
        "  job = client.query(statement, project=project);\n",
        "  job.result();\n",
        "  return job;\n",
        "\n"
      ],
      "metadata": {
        "id": "L83Wg-bDM9Wr"
      },
      "execution_count": null,
      "outputs": []
    },
    {
      "cell_type": "code",
      "source": [
        "sql=f\"\"\"\n",
        "CREATE SCHEMA IF NOT EXISTS {DATASET};\n",
        "CREATE TABLE IF NOT EXISTS {DATASET}.{TABLE}\n",
        "(\n",
        "  s String,\n",
        "  i Integer,\n",
        "  b Boolean,\n",
        "  t Timestamp,\n",
        "  r Struct<A String, B Integer>\n",
        ");\n",
        "\"\"\"\n",
        "print(sql)\n",
        "run_job(sql)"
      ],
      "metadata": {
        "id": "chZPeyNbKzC6"
      },
      "execution_count": null,
      "outputs": []
    },
    {
      "cell_type": "markdown",
      "source": [
        "When a messages is published to a topic, PubSub will append the message to a table.  This means that the PubSub subsystem must be granted permissions to insert into the table.  When a subscription pointing to BigQuery is created, we can identify a service account that will be used.  The default is called `service-<PROJECT_NUMBER>@gcp-sa-pubsubsub.iam.gserviceaccount.com`.  Set the IAM permissions on the table to allow PubSub to write into it."
      ],
      "metadata": {
        "id": "BV212tN-S7oB"
      }
    },
    {
      "cell_type": "code",
      "source": [
        "policy=fr\"\"\"\n",
        "{{\n",
        "  \\\"bindings\\\": [\n",
        "    {{\n",
        "      \\\"members\\\": [\n",
        "        \\\"serviceAccount:{PUBSUB_SERVICE_ACCOUNT}\\\"\n",
        "      ],\n",
        "      \\\"role\\\": \\\"roles/bigquery.dataEditor\\\"\n",
        "    }}\n",
        "  ]\n",
        "}}\n",
        "\"\"\"\n",
        "!echo \"{policy}\" > permissions.json\n",
        "!bq set-iam-policy {PROJECT}:{DATASET}.{TABLE} permissions.json"
      ],
      "metadata": {
        "id": "7CUYd63lTjJQ"
      },
      "execution_count": null,
      "outputs": []
    },
    {
      "cell_type": "markdown",
      "source": [
        "We can now create our GCP artifacts.  This will include a topic and a subscription."
      ],
      "metadata": {
        "id": "tSa7QJVMMJ03"
      }
    },
    {
      "cell_type": "code",
      "source": [
        "!gcloud pubsub topics create {TOPIC} --project={PROJECT}\n",
        "!gcloud pubsub topics create {TOPIC_DLQ} --project={PROJECT}\n",
        "!gcloud pubsub subscriptions create {SUBSCRIPTION} \\\n",
        "  --topic={TOPIC} \\\n",
        "  --dead-letter-topic={TOPIC_DLQ} \\\n",
        "  --bigquery-table={PROJECT}:{DATASET}.{TABLE} \\\n",
        "  --use-table-schema \\\n",
        "  --project={PROJECT}\n",
        "!gcloud pubsub subscriptions create {SUBSCRIPTION_DLQ} \\\n",
        "  --topic={TOPIC_DLQ} \\\n",
        "  --project={PROJECT}\n",
        "!gcloud pubsub topics add-iam-policy-binding {TOPIC_DLQ} \\\n",
        "  --member=serviceAccount:{PUBSUB_SERVICE_ACCOUNT} \\\n",
        "  --role=roles/pubsub.publisher\n",
        "!gcloud pubsub subscriptions add-iam-policy-binding {SUBSCRIPTION} \\\n",
        "  --member=serviceAccount:{PUBSUB_SERVICE_ACCOUNT} \\\n",
        "  --role=roles/pubsub.subscriber"
      ],
      "metadata": {
        "id": "oC48wCiYMQmN"
      },
      "execution_count": null,
      "outputs": []
    },
    {
      "cell_type": "markdown",
      "source": [
        "With the dataset and table created, we can now publish a message.  Our message will contain the following JSON:\n",
        "\n",
        "```\n",
        "{\n",
        "  \"s\": \"Hello World!\",\n",
        "  \"i\": 1234,\n",
        "  \"b\": true,\n",
        "  \"r\": {\n",
        "    \"A\": \"abc\",\n",
        "    \"B\": 9876\n",
        "  }\n",
        "}\n",
        "```"
      ],
      "metadata": {
        "id": "RBQKUpBLL7Xq"
      }
    },
    {
      "cell_type": "markdown",
      "source": [
        "Now we can publish a message\n"
      ],
      "metadata": {
        "id": "TZM-RTdopDNV"
      }
    },
    {
      "cell_type": "code",
      "source": [
        "message=r'{\"s\":\"Hello World!\",\"i\":1234,\"b\":true,' + f'\"t\":\"{datetime.datetime.now().isoformat()}\",' + r'\"r\":{\"A\": \"abc\",\"B\":9876}}'\n",
        "print(message)\n",
        "!gcloud pubsub topics publish {TOPIC} \\\n",
        "  --message='{message}' \\\n",
        "  --project={PROJECT}"
      ],
      "metadata": {
        "id": "hIwQeErMpH2d"
      },
      "execution_count": null,
      "outputs": []
    },
    {
      "cell_type": "code",
      "source": [
        "import pandas as pd\n",
        "pd.set_option('display.width', 200)\n",
        "\n",
        "sql=f\"\"\"\n",
        "SELECT * FROM {DATASET}.{TABLE}\n",
        "\"\"\"\n",
        "print(sql)\n",
        "job = run_job(sql)\n",
        "print(job.result().to_dataframe())"
      ],
      "metadata": {
        "id": "wAzLyVaB1KU-"
      },
      "execution_count": null,
      "outputs": []
    },
    {
      "cell_type": "code",
      "source": [
        "message=f'This is junk - {datetime.datetime.now().isoformat()}'\n",
        "print(message)\n",
        "!gcloud pubsub topics publish {TOPIC} \\\n",
        "  --message='{message}' \\\n",
        "  --project={PROJECT}"
      ],
      "metadata": {
        "id": "9a-0Xn_POX97"
      },
      "execution_count": null,
      "outputs": []
    },
    {
      "cell_type": "code",
      "source": [
        "!gcloud pubsub subscriptions pull {SUBSCRIPTION_DLQ} --auto-ack --project={PROJECT}"
      ],
      "metadata": {
        "id": "BXhcxLOI01Ad"
      },
      "execution_count": null,
      "outputs": []
    },
    {
      "cell_type": "markdown",
      "source": [
        "### Clean up\n",
        "When we are done, we might want to clean up some of the resources we created."
      ],
      "metadata": {
        "id": "XdbTVI2-s8XF"
      }
    },
    {
      "cell_type": "code",
      "source": [
        "!gcloud pubsub subscriptions delete {SUBSCRIPTION} --project={PROJECT}\n",
        "!gcloud pubsub subscriptions delete {SUBSCRIPTION_DLQ} --project={PROJECT}\n",
        "!gcloud pubsub topics delete {TOPIC} --project={PROJECT}\n",
        "!gcloud pubsub topics delete {TOPIC_DLQ} --project={PROJECT}\n",
        "sql=f\"\"\"\n",
        "DROP TABLE IF EXISTS {DATASET}.{TABLE};\n",
        "DROP SCHEMA IF EXISTS {DATASET};\n",
        "\"\"\"\n",
        "run_job(sql)\n"
      ],
      "metadata": {
        "id": "ZbPh5zhYtP29"
      },
      "execution_count": null,
      "outputs": []
    },
    {
      "cell_type": "markdown",
      "source": [
        "## References\n",
        "Here are some useful references to working with PubSub delivery to BigQuery tables:\n",
        "\n",
        "* [BigQuery subscriptions | Cloud Pub/Sub Documentation](https://cloud.google.com/pubsub/docs/bigquery)\n",
        "* [Subscription properties | Pub/Sub Documentation | Google Cloud](https://cloud.google.com/pubsub/docs/subscription-properties)\n",
        "* [Medium: Stream Your Data Directly From Cloud Pub/Sub to BigQuery via BigQuery Subscription | by Piyush Dhasmana (Data Engineer) | Medium - 2023-08](https://medium.com/@piyush.d005/stream-your-data-directly-from-cloud-pub-sub-to-bigquery-via-bigquery-subscription-62c4b899399c)\n",
        "* [Medium: Streaming from Google Cloud Pub/Sub to Bigquery without the Middlemen | by Ravish Garg - 2022-08](https://medium.com/google-cloud/streaming-from-google-cloud-pub-sub-to-bigquery-without-the-middlemen-327ef24f4d15)\n",
        "* [YouTube: PubSub BigQuery Subscription](https://www.youtube.com/watch?v=1JODJO6rLLA)"
      ],
      "metadata": {
        "id": "3fCD1uDgsKVB"
      }
    }
  ]
}